{
 "cells": [
  {
   "cell_type": "code",
   "id": "initial_id",
   "metadata": {
    "collapsed": true,
    "jupyter": {
     "is_executing": true
    }
   },
   "source": "from pyamaze import maze, agent, COLOR\n",
   "outputs": [],
   "execution_count": null
  },
  {
   "metadata": {},
   "cell_type": "markdown",
   "source": "importing the necessary modules from the pyamaze library",
   "id": "b754ef25aa1be407"
  },
  {
   "metadata": {
    "jupyter": {
     "is_executing": true
    }
   },
   "cell_type": "code",
   "source": [
    "def solve_maze(m):\n",
    "\t# Start from the bottom right corner\n",
    "\tstart = (m.rows, m.cols)"
   ],
   "id": "d9d30eb76162b0fa",
   "outputs": [],
   "execution_count": null
  },
  {
   "metadata": {},
   "cell_type": "markdown",
   "source": "The start position is the bottom right corner of the maze",
   "id": "527ba8598831c92f"
  },
  {
   "metadata": {},
   "cell_type": "code",
   "outputs": [],
   "execution_count": null,
   "source": [
    "explored = [start]\n",
    "\tpath_track = {}\n",
    "\n",
    "\t# List to explore cells\n",
    "\tto_explore = [start]"
   ],
   "id": "e31de06a3560f6ae"
  },
  {
   "metadata": {},
   "cell_type": "markdown",
   "source": "The explored list contains the cells that have been visited. The path_track dictionary is used to keep track of the path taken to reach a cell. The to_explore list contains the cells that are to be visited.",
   "id": "7e8dc5aec307f0d"
  },
  {
   "metadata": {},
   "cell_type": "code",
   "outputs": [],
   "execution_count": null,
   "source": [
    "\twhile to_explore:\n",
    "\t\t# Get the current cell\n",
    "\t\tcurrent_cell = to_explore.pop()\n",
    "\t\tif current_cell == (1, 1):\n",
    "\t\t\tbreak"
   ],
   "id": "dbe1350beb122bea"
  },
  {
   "metadata": {},
   "cell_type": "markdown",
   "source": "The loop runs until there are no cells left to explore. The current cell is popped from the to_explore list. If the current cell is the top left corner of the maze, the loop breaks.\n",
   "id": "6dec22393852ea1"
  },
  {
   "metadata": {},
   "cell_type": "code",
   "outputs": [],
   "execution_count": null,
   "source": [
    "\t\tfor direction in ['E', 'W', 'S', 'N']:\n",
    "\t\t\t# Check if we can move in this direction\n",
    "\t\t\tif m.maze_map[current_cell][direction] == True:\n",
    "\t\t\t\t# Calculate the next cell based on direction\n",
    "\t\t\t\tif direction == 'E':\n",
    "\t\t\t\t\tnext_cell = (current_cell[0], current_cell[1] + 1)\n",
    "\t\t\t\telif direction == 'W':\n",
    "\t\t\t\t\tnext_cell = (current_cell[0], current_cell[1] - 1)\n",
    "\t\t\t\telif direction == 'S':\n",
    "\t\t\t\t\tnext_cell = (current_cell[0] + 1, current_cell[1])\n",
    "\t\t\t\telse:  # North\n",
    "\t\t\t\t\tnext_cell = (current_cell[0] - 1, current_cell[1])"
   ],
   "id": "18fcae876e53cc0a"
  },
  {
   "metadata": {},
   "cell_type": "markdown",
   "source": "The loop checks if the agent can move in the given direction. If it can, the next cell is calculated based on the direction.",
   "id": "146b6ec2b0aeed88"
  },
  {
   "metadata": {},
   "cell_type": "code",
   "outputs": [],
   "execution_count": null,
   "source": [
    "\t\t\t\tif next_cell in explored:\n",
    "\t\t\t\t\tcontinue\n",
    "\n",
    "\t\t\t\t# Mark as explored and add to exploration list\n",
    "\t\t\t\texplored.append(next_cell)\n",
    "\t\t\t\tto_explore.append(next_cell)\n",
    "\n",
    "\t\t\t\t# Keep track of the path\n",
    "\t\t\t\tpath_track[next_cell] = current_cell"
   ],
   "id": "ce34a3b031184127"
  },
  {
   "metadata": {},
   "cell_type": "markdown",
   "source": "If the next cell has already been explored, the loop continues. Otherwise, the next cell is marked as explored and added to the to_explore list. The path taken to reach the next cell is stored in the path_track dictionary.\n",
   "id": "52a8319c86f28c4"
  },
  {
   "metadata": {},
   "cell_type": "code",
   "outputs": [],
   "execution_count": null,
   "source": [
    "final_path = {}\n",
    "\tcurrent = (1, 1)\n",
    "\twhile current != start:\n",
    "\t\t# Get the previous cell in the path\n",
    "\t\tprevious = path_track[current]\n",
    "\t\t# Create path from previous to current\n",
    "\t\tfinal_path[previous] = current\n",
    "\t\t# Move to previous cell\n",
    "\t\tcurrent = previous\n",
    "\n",
    "\treturn final_path"
   ],
   "id": "78b5b53476e374fd"
  },
  {
   "metadata": {},
   "cell_type": "markdown",
   "source": "final_path is a dictionary that stores the path from the start cell to the end cell. The current cell is set to the end cell, and the loop runs until the current cell is the start cell. The previous cell in the path is obtained from the path_track dictionary, and the path from the previous cell to the current cell is stored in the final_path dictionary. The current cell is then set to the previous cell.",
   "id": "e8bcbdbec0dd0985"
  },
  {
   "metadata": {},
   "cell_type": "code",
   "outputs": [],
   "execution_count": null,
   "source": [
    "# Create the maze\n",
    "m = maze(20, 20)  # 20x20 maze\n",
    "m.CreateMaze(loopPercent=50)  # Create maze with some loops\n",
    "\n",
    "# Solve the maze\n",
    "path = solve_maze(m)\n",
    "\n",
    "# Create an agent to show the path\n",
    "maze_solver = agent(m, footprints=True, shape='square', color=COLOR.blue)\n",
    "\n",
    "# Trace the path\n",
    "m.tracePath({maze_solver: path}, delay=20)\n",
    "\n",
    "# Run the maze visualization\n",
    "m.run()"
   ],
   "id": "702bb8832b256c27"
  },
  {
   "metadata": {},
   "cell_type": "markdown",
   "source": "The maze is created with a size of 20x20 and 50% loops. The maze is then solved using the solve_maze function, and the path is stored in the path variable. An agent is created to show the path, and the path is traced using the tracePath method. The maze visualization is then run.",
   "id": "d76540022cf636dd"
  }
 ],
 "metadata": {
  "kernelspec": {
   "display_name": "Python 3",
   "language": "python",
   "name": "python3"
  },
  "language_info": {
   "codemirror_mode": {
    "name": "ipython",
    "version": 2
   },
   "file_extension": ".py",
   "mimetype": "text/x-python",
   "name": "python",
   "nbconvert_exporter": "python",
   "pygments_lexer": "ipython2",
   "version": "2.7.6"
  }
 },
 "nbformat": 4,
 "nbformat_minor": 5
}
